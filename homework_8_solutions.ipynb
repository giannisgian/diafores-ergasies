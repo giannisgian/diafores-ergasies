{
  "nbformat": 4,
  "nbformat_minor": 0,
  "metadata": {
    "colab": {
      "name": "homework_8_solutions.ipynb",
      "provenance": [],
      "collapsed_sections": [],
      "include_colab_link": true
    },
    "kernelspec": {
      "name": "python3",
      "display_name": "Python 3"
    },
    "language_info": {
      "name": "python"
    }
  },
  "cells": [
    {
      "cell_type": "markdown",
      "metadata": {
        "id": "view-in-github",
        "colab_type": "text"
      },
      "source": [
        "<a href=\"https://colab.research.google.com/github/giannisgian/diafores-ergasies/blob/main/homework_8_solutions.ipynb\" target=\"_parent\"><img src=\"https://colab.research.google.com/assets/colab-badge.svg\" alt=\"Open In Colab\"/></a>"
      ]
    },
    {
      "cell_type": "code",
      "execution_count": null,
      "metadata": {
        "id": "Um9swH_QDAYn"
      },
      "outputs": [],
      "source": [
        "from urllib.request import urlopen, Request\n",
        "from bs4 import BeautifulSoup\n",
        "%matplotlib inline\n",
        "import pandas as pd\n",
        "import matplotlib.pyplot as plt\n",
        "import matplotlib\n",
        "matplotlib.rcParams['pdf.fonttype'] = 42\n",
        "import numpy as np"
      ]
    },
    {
      "cell_type": "code",
      "source": [
        "df = pd.DataFrame(columns = ['Title', 'Date', 'URL', 'Description', 'About_text', 'About_URL'])"
      ],
      "metadata": {
        "id": "xaSlANa8EAr9"
      },
      "execution_count": null,
      "outputs": []
    },
    {
      "cell_type": "code",
      "source": [
        "titles = []#check\n",
        "links = []#check\n",
        "authors = [] # authors don't exist\n",
        "dates = []#check\n",
        "descs = []#check\n",
        "abouts_text = []#check\n",
        "abouts_URL = []#check\n",
        "\n",
        "\n",
        "for i in range(1,6):\n",
        "  my_url = 'https://www.news247.gr/latest/?pages='+str(i)\n",
        "  req = Request(my_url,headers={'User-Agent': 'Mozilla/5.0'})\n",
        "  # print(my_url)\n",
        "  raw_html = urlopen(req).read()\n",
        "  news = BeautifulSoup(raw_html, \"html.parser\")\n",
        "\n",
        "\n",
        "  titles_soup = news.find_all(\"h2\", {\"class\": \"article__title bold\"})\n",
        "\n",
        "  # links = news.find_all(\"h2\", {\"class\": \"article__title bold\"})\n",
        "  for title in titles_soup:\n",
        "    links.append(title.find('a')['href'])\n",
        "    titles.append((title.text).replace('\\n',''))\n",
        "\n",
        "  abouts_soup = news.find_all(\"div\", {\"class\": \"article__summary\"})\n",
        "  for about in abouts_soup:\n",
        "    info = (about.text).splitlines()\n",
        "    # print(info)\n",
        "    abouts_text.append(info[1])\n",
        "\n",
        "    descs.append(info[2])\n",
        "\n",
        "    dates.append(info[3])\n",
        "\n",
        "    abouts_URL.append(about.find('a')['href'])\n",
        "\n",
        "print(len(titles))\n",
        "print(len(links))\n",
        "print(len(dates))\n",
        "print(len(descs))\n",
        "print(len(abouts_text))\n",
        "print(len(abouts_URL))\n",
        "\n",
        "    "
      ],
      "metadata": {
        "colab": {
          "base_uri": "https://localhost:8080/"
        },
        "id": "ZkMHtsKpDD3t",
        "outputId": "3467f77c-06eb-49ef-e26b-f6b9ea7e10fe"
      },
      "execution_count": null,
      "outputs": [
        {
          "output_type": "stream",
          "name": "stdout",
          "text": [
            "200\n",
            "200\n",
            "200\n",
            "200\n",
            "200\n",
            "200\n"
          ]
        }
      ]
    },
    {
      "cell_type": "code",
      "source": [
        "# df = pd.DataFrame(columns = ['Title', 'Date', 'URL', 'Description', 'About_text', 'About_URL'])\n",
        "\n",
        "for i in range(0, len(titles)):\n",
        "  df = df.append({'Title' : titles[i], 'Date' : dates[i], 'URL' : links[i], 'Description' : descs[i], 'About_text' : abouts_text[i], 'About_URL' : abouts_URL[i]}, ignore_index=True)\n"
      ],
      "metadata": {
        "id": "4eHatqxkL1Tt"
      },
      "execution_count": null,
      "outputs": []
    },
    {
      "cell_type": "code",
      "source": [
        "df"
      ],
      "metadata": {
        "colab": {
          "base_uri": "https://localhost:8080/",
          "height": 424
        },
        "id": "nHO8xZqgR05-",
        "outputId": "3fa154a6-f27b-4dc7-c5c7-b6ff0f6d13f2"
      },
      "execution_count": null,
      "outputs": [
        {
          "output_type": "execute_result",
          "data": {
            "text/plain": [
              "                                                 Title                   Date  \\\n",
              "0    Κάτια Ταραμπάνκο: Η καλοκαιρινή \"WCselfie\" με ...  Ιουνίου 07 2022 18:31   \n",
              "1    Ουκρανία: Νέοι βομβαρδισμοί των ρωσικών δυνάμε...  Ιουνίου 07 2022 18:30   \n",
              "2    Survivor Spoiler: Αυτή η ομάδα κερδίζει απόψε ...  Ιουνίου 07 2022 18:27   \n",
              "3    Γενική Συνέλευση ΣΕΒ: Το Δ.Σ. προτείνει την επ...  Ιουνίου 07 2022 18:14   \n",
              "4    Θεσσαλονίκη: Επεισόδιο με πυροβολισμούς στον Φ...  Ιουνίου 07 2022 18:02   \n",
              "..                                                 ...                    ...   \n",
              "195  Βρετανία: Παραιτήθηκε ο \"τσάρος κατά της διαφθ...  Ιουνίου 06 2022 14:10   \n",
              "196  ΗΠΑ-Ρωσία: \"Μην κλείσετε την πρεσβεία σας στην...  Ιουνίου 06 2022 14:07   \n",
              "197   Χαρίτσης: Ο πληθωρισμός δεν είναι φυσικό επόμενο  Ιουνίου 06 2022 14:07   \n",
              "198  Μεγάλη Βρετανία: Εγκατέλειψαν επιβάτη με αναπη...  Ιουνίου 06 2022 14:00   \n",
              "199  Θεσσαλονίκη: Τροχαίο ατύχημα έξω από το ΑΠΘ - ...  Ιουνίου 06 2022 13:59   \n",
              "\n",
              "                                                   URL  \\\n",
              "0    https://www.news247.gr/celebrities/katia-taram...   \n",
              "1    https://www.news247.gr/kosmos/oykrania-neoi-vo...   \n",
              "2    https://www.news247.gr/psixagogia/tileorasi/su...   \n",
              "3    https://www.news247.gr/oikonomia/geniki-synele...   \n",
              "4    https://www.news247.gr/koinonia/thessaloniki-e...   \n",
              "..                                                 ...   \n",
              "195  https://www.news247.gr/kosmos/vretania-paraiti...   \n",
              "196  https://www.news247.gr/kosmos/ipa-rosia-min-kl...   \n",
              "197  https://www.news247.gr/politiki/charitsis-o-pl...   \n",
              "198  https://www.news247.gr/kosmos/megali-vretania-...   \n",
              "199  https://www.news247.gr/koinonia/thessaloniki-t...   \n",
              "\n",
              "                                           Description             About_text  \\\n",
              "0    Το γνωστό μοντέλο έστειλε \"ινσταγκραμικούς\" χα...       ΚΑΤΙΑ ΤΑΡΑΜΠΑΝΚΟ   \n",
              "1    Έναν νεκρό άφησαν πίσω τους οι νέοι βομβαρδισμ...  ΠΟΛΕΜΟΣ ΣΤΗΝ ΟΥΚΡΑΝΙΑ   \n",
              "2    Μεγάλη ανατροπή στο αποψινό επεισόδιο του Surv...               SURVIVOR   \n",
              "3    Την επανεκλογή δύο διοικητικών προσώπων θα ζητ...                    ΣΕΒ   \n",
              "4    Ένοπλος πυροβόλησε τουλάχιστον πέντε φορές στο...           ΠΥΡΟΒΟΛΙΣΜΟΙ   \n",
              "..                                                 ...                    ...   \n",
              "195  Παραιτήθηκε ο βουλευτής των Τόρις Τζον Πένροου...        ΜΕΓΑΛΗ ΒΡΕΤΑΝΙΑ   \n",
              "196  Ο Αμερικανός πρεσβευής των ΗΠΑ στη Μόσχα κάλεσ...                    ΗΠΑ   \n",
              "197  Ο Αλέξης Χαρίτσης σε εκτενή τοποθέτησή του για...              ΣΥ.ΡΙΖ.Α.   \n",
              "198  Σοκάρει η ανάλγητη αντιμετώπιση που είχε επιβά...          ΑΕΡΟΜΕΤΑΦΟΡΕΣ   \n",
              "199  Στο νοσοκομείο \"Παπαγεωργίου\" μεταφέρθηκε ένας...      ΤΡΟΧΑΙΑ ΑΤΥΧΗΜΑΤΑ   \n",
              "\n",
              "                                        About_URL  \n",
              "0         https://www.news247.gr/katia-tarampanko  \n",
              "1    https://www.news247.gr/polemos-stin-oykrania  \n",
              "2                 https://www.news247.gr/survivor  \n",
              "3                      https://www.news247.gr/sev  \n",
              "4             https://www.news247.gr/pyrovolismoi  \n",
              "..                                            ...  \n",
              "195        https://www.news247.gr/megali-bretania  \n",
              "196                    https://www.news247.gr/hpa  \n",
              "197                 https://www.news247.gr/syriza  \n",
              "198          https://www.news247.gr/aerometafores  \n",
              "199    https://www.news247.gr/trochaia-atychimata  \n",
              "\n",
              "[200 rows x 6 columns]"
            ],
            "text/html": [
              "\n",
              "  <div id=\"df-fc5c175d-79dc-484c-9430-d6ec64ec093b\">\n",
              "    <div class=\"colab-df-container\">\n",
              "      <div>\n",
              "<style scoped>\n",
              "    .dataframe tbody tr th:only-of-type {\n",
              "        vertical-align: middle;\n",
              "    }\n",
              "\n",
              "    .dataframe tbody tr th {\n",
              "        vertical-align: top;\n",
              "    }\n",
              "\n",
              "    .dataframe thead th {\n",
              "        text-align: right;\n",
              "    }\n",
              "</style>\n",
              "<table border=\"1\" class=\"dataframe\">\n",
              "  <thead>\n",
              "    <tr style=\"text-align: right;\">\n",
              "      <th></th>\n",
              "      <th>Title</th>\n",
              "      <th>Date</th>\n",
              "      <th>URL</th>\n",
              "      <th>Description</th>\n",
              "      <th>About_text</th>\n",
              "      <th>About_URL</th>\n",
              "    </tr>\n",
              "  </thead>\n",
              "  <tbody>\n",
              "    <tr>\n",
              "      <th>0</th>\n",
              "      <td>Κάτια Ταραμπάνκο: Η καλοκαιρινή \"WCselfie\" με ...</td>\n",
              "      <td>Ιουνίου 07 2022 18:31</td>\n",
              "      <td>https://www.news247.gr/celebrities/katia-taram...</td>\n",
              "      <td>Το γνωστό μοντέλο έστειλε \"ινσταγκραμικούς\" χα...</td>\n",
              "      <td>ΚΑΤΙΑ ΤΑΡΑΜΠΑΝΚΟ</td>\n",
              "      <td>https://www.news247.gr/katia-tarampanko</td>\n",
              "    </tr>\n",
              "    <tr>\n",
              "      <th>1</th>\n",
              "      <td>Ουκρανία: Νέοι βομβαρδισμοί των ρωσικών δυνάμε...</td>\n",
              "      <td>Ιουνίου 07 2022 18:30</td>\n",
              "      <td>https://www.news247.gr/kosmos/oykrania-neoi-vo...</td>\n",
              "      <td>Έναν νεκρό άφησαν πίσω τους οι νέοι βομβαρδισμ...</td>\n",
              "      <td>ΠΟΛΕΜΟΣ ΣΤΗΝ ΟΥΚΡΑΝΙΑ</td>\n",
              "      <td>https://www.news247.gr/polemos-stin-oykrania</td>\n",
              "    </tr>\n",
              "    <tr>\n",
              "      <th>2</th>\n",
              "      <td>Survivor Spoiler: Αυτή η ομάδα κερδίζει απόψε ...</td>\n",
              "      <td>Ιουνίου 07 2022 18:27</td>\n",
              "      <td>https://www.news247.gr/psixagogia/tileorasi/su...</td>\n",
              "      <td>Μεγάλη ανατροπή στο αποψινό επεισόδιο του Surv...</td>\n",
              "      <td>SURVIVOR</td>\n",
              "      <td>https://www.news247.gr/survivor</td>\n",
              "    </tr>\n",
              "    <tr>\n",
              "      <th>3</th>\n",
              "      <td>Γενική Συνέλευση ΣΕΒ: Το Δ.Σ. προτείνει την επ...</td>\n",
              "      <td>Ιουνίου 07 2022 18:14</td>\n",
              "      <td>https://www.news247.gr/oikonomia/geniki-synele...</td>\n",
              "      <td>Την επανεκλογή δύο διοικητικών προσώπων θα ζητ...</td>\n",
              "      <td>ΣΕΒ</td>\n",
              "      <td>https://www.news247.gr/sev</td>\n",
              "    </tr>\n",
              "    <tr>\n",
              "      <th>4</th>\n",
              "      <td>Θεσσαλονίκη: Επεισόδιο με πυροβολισμούς στον Φ...</td>\n",
              "      <td>Ιουνίου 07 2022 18:02</td>\n",
              "      <td>https://www.news247.gr/koinonia/thessaloniki-e...</td>\n",
              "      <td>Ένοπλος πυροβόλησε τουλάχιστον πέντε φορές στο...</td>\n",
              "      <td>ΠΥΡΟΒΟΛΙΣΜΟΙ</td>\n",
              "      <td>https://www.news247.gr/pyrovolismoi</td>\n",
              "    </tr>\n",
              "    <tr>\n",
              "      <th>...</th>\n",
              "      <td>...</td>\n",
              "      <td>...</td>\n",
              "      <td>...</td>\n",
              "      <td>...</td>\n",
              "      <td>...</td>\n",
              "      <td>...</td>\n",
              "    </tr>\n",
              "    <tr>\n",
              "      <th>195</th>\n",
              "      <td>Βρετανία: Παραιτήθηκε ο \"τσάρος κατά της διαφθ...</td>\n",
              "      <td>Ιουνίου 06 2022 14:10</td>\n",
              "      <td>https://www.news247.gr/kosmos/vretania-paraiti...</td>\n",
              "      <td>Παραιτήθηκε ο βουλευτής των Τόρις Τζον Πένροου...</td>\n",
              "      <td>ΜΕΓΑΛΗ ΒΡΕΤΑΝΙΑ</td>\n",
              "      <td>https://www.news247.gr/megali-bretania</td>\n",
              "    </tr>\n",
              "    <tr>\n",
              "      <th>196</th>\n",
              "      <td>ΗΠΑ-Ρωσία: \"Μην κλείσετε την πρεσβεία σας στην...</td>\n",
              "      <td>Ιουνίου 06 2022 14:07</td>\n",
              "      <td>https://www.news247.gr/kosmos/ipa-rosia-min-kl...</td>\n",
              "      <td>Ο Αμερικανός πρεσβευής των ΗΠΑ στη Μόσχα κάλεσ...</td>\n",
              "      <td>ΗΠΑ</td>\n",
              "      <td>https://www.news247.gr/hpa</td>\n",
              "    </tr>\n",
              "    <tr>\n",
              "      <th>197</th>\n",
              "      <td>Χαρίτσης: Ο πληθωρισμός δεν είναι φυσικό επόμενο</td>\n",
              "      <td>Ιουνίου 06 2022 14:07</td>\n",
              "      <td>https://www.news247.gr/politiki/charitsis-o-pl...</td>\n",
              "      <td>Ο Αλέξης Χαρίτσης σε εκτενή τοποθέτησή του για...</td>\n",
              "      <td>ΣΥ.ΡΙΖ.Α.</td>\n",
              "      <td>https://www.news247.gr/syriza</td>\n",
              "    </tr>\n",
              "    <tr>\n",
              "      <th>198</th>\n",
              "      <td>Μεγάλη Βρετανία: Εγκατέλειψαν επιβάτη με αναπη...</td>\n",
              "      <td>Ιουνίου 06 2022 14:00</td>\n",
              "      <td>https://www.news247.gr/kosmos/megali-vretania-...</td>\n",
              "      <td>Σοκάρει η ανάλγητη αντιμετώπιση που είχε επιβά...</td>\n",
              "      <td>ΑΕΡΟΜΕΤΑΦΟΡΕΣ</td>\n",
              "      <td>https://www.news247.gr/aerometafores</td>\n",
              "    </tr>\n",
              "    <tr>\n",
              "      <th>199</th>\n",
              "      <td>Θεσσαλονίκη: Τροχαίο ατύχημα έξω από το ΑΠΘ - ...</td>\n",
              "      <td>Ιουνίου 06 2022 13:59</td>\n",
              "      <td>https://www.news247.gr/koinonia/thessaloniki-t...</td>\n",
              "      <td>Στο νοσοκομείο \"Παπαγεωργίου\" μεταφέρθηκε ένας...</td>\n",
              "      <td>ΤΡΟΧΑΙΑ ΑΤΥΧΗΜΑΤΑ</td>\n",
              "      <td>https://www.news247.gr/trochaia-atychimata</td>\n",
              "    </tr>\n",
              "  </tbody>\n",
              "</table>\n",
              "<p>200 rows × 6 columns</p>\n",
              "</div>\n",
              "      <button class=\"colab-df-convert\" onclick=\"convertToInteractive('df-fc5c175d-79dc-484c-9430-d6ec64ec093b')\"\n",
              "              title=\"Convert this dataframe to an interactive table.\"\n",
              "              style=\"display:none;\">\n",
              "        \n",
              "  <svg xmlns=\"http://www.w3.org/2000/svg\" height=\"24px\"viewBox=\"0 0 24 24\"\n",
              "       width=\"24px\">\n",
              "    <path d=\"M0 0h24v24H0V0z\" fill=\"none\"/>\n",
              "    <path d=\"M18.56 5.44l.94 2.06.94-2.06 2.06-.94-2.06-.94-.94-2.06-.94 2.06-2.06.94zm-11 1L8.5 8.5l.94-2.06 2.06-.94-2.06-.94L8.5 2.5l-.94 2.06-2.06.94zm10 10l.94 2.06.94-2.06 2.06-.94-2.06-.94-.94-2.06-.94 2.06-2.06.94z\"/><path d=\"M17.41 7.96l-1.37-1.37c-.4-.4-.92-.59-1.43-.59-.52 0-1.04.2-1.43.59L10.3 9.45l-7.72 7.72c-.78.78-.78 2.05 0 2.83L4 21.41c.39.39.9.59 1.41.59.51 0 1.02-.2 1.41-.59l7.78-7.78 2.81-2.81c.8-.78.8-2.07 0-2.86zM5.41 20L4 18.59l7.72-7.72 1.47 1.35L5.41 20z\"/>\n",
              "  </svg>\n",
              "      </button>\n",
              "      \n",
              "  <style>\n",
              "    .colab-df-container {\n",
              "      display:flex;\n",
              "      flex-wrap:wrap;\n",
              "      gap: 12px;\n",
              "    }\n",
              "\n",
              "    .colab-df-convert {\n",
              "      background-color: #E8F0FE;\n",
              "      border: none;\n",
              "      border-radius: 50%;\n",
              "      cursor: pointer;\n",
              "      display: none;\n",
              "      fill: #1967D2;\n",
              "      height: 32px;\n",
              "      padding: 0 0 0 0;\n",
              "      width: 32px;\n",
              "    }\n",
              "\n",
              "    .colab-df-convert:hover {\n",
              "      background-color: #E2EBFA;\n",
              "      box-shadow: 0px 1px 2px rgba(60, 64, 67, 0.3), 0px 1px 3px 1px rgba(60, 64, 67, 0.15);\n",
              "      fill: #174EA6;\n",
              "    }\n",
              "\n",
              "    [theme=dark] .colab-df-convert {\n",
              "      background-color: #3B4455;\n",
              "      fill: #D2E3FC;\n",
              "    }\n",
              "\n",
              "    [theme=dark] .colab-df-convert:hover {\n",
              "      background-color: #434B5C;\n",
              "      box-shadow: 0px 1px 3px 1px rgba(0, 0, 0, 0.15);\n",
              "      filter: drop-shadow(0px 1px 2px rgba(0, 0, 0, 0.3));\n",
              "      fill: #FFFFFF;\n",
              "    }\n",
              "  </style>\n",
              "\n",
              "      <script>\n",
              "        const buttonEl =\n",
              "          document.querySelector('#df-fc5c175d-79dc-484c-9430-d6ec64ec093b button.colab-df-convert');\n",
              "        buttonEl.style.display =\n",
              "          google.colab.kernel.accessAllowed ? 'block' : 'none';\n",
              "\n",
              "        async function convertToInteractive(key) {\n",
              "          const element = document.querySelector('#df-fc5c175d-79dc-484c-9430-d6ec64ec093b');\n",
              "          const dataTable =\n",
              "            await google.colab.kernel.invokeFunction('convertToInteractive',\n",
              "                                                     [key], {});\n",
              "          if (!dataTable) return;\n",
              "\n",
              "          const docLinkHtml = 'Like what you see? Visit the ' +\n",
              "            '<a target=\"_blank\" href=https://colab.research.google.com/notebooks/data_table.ipynb>data table notebook</a>'\n",
              "            + ' to learn more about interactive tables.';\n",
              "          element.innerHTML = '';\n",
              "          dataTable['output_type'] = 'display_data';\n",
              "          await google.colab.output.renderOutput(dataTable, element);\n",
              "          const docLink = document.createElement('div');\n",
              "          docLink.innerHTML = docLinkHtml;\n",
              "          element.appendChild(docLink);\n",
              "        }\n",
              "      </script>\n",
              "    </div>\n",
              "  </div>\n",
              "  "
            ]
          },
          "metadata": {},
          "execution_count": 5
        }
      ]
    },
    {
      "cell_type": "code",
      "source": [
        "df.groupby('About_text').size().sort_values(ascending=False).head(10)"
      ],
      "metadata": {
        "colab": {
          "base_uri": "https://localhost:8080/"
        },
        "id": "pDJjNMElT5RH",
        "outputId": "cd5b99b4-775d-45a1-d29e-38db094b2e83"
      },
      "execution_count": null,
      "outputs": [
        {
          "output_type": "execute_result",
          "data": {
            "text/plain": [
              "About_text\n",
              "ADVERTORIAL              12\n",
              "ΗΠΑ                       7\n",
              "ΠΟΛΕΜΟΣ ΣΤΗΝ ΟΥΚΡΑΝΙΑ     6\n",
              "ΠΑΝΕΛΛΗΝΙΕΣ 2022          6\n",
              "ΦΩΤΙΑ                     5\n",
              "ΤΟΥΡΚΙΑ                   5\n",
              "ΑΣΤΥΝΟΜΙΑ                 5\n",
              "ΡΩΣΙΑ                     5\n",
              "SURVIVOR                  4\n",
              "ΓΕΡΜΑΝΙΑ                  4\n",
              "dtype: int64"
            ]
          },
          "metadata": {},
          "execution_count": 6
        }
      ]
    },
    {
      "cell_type": "code",
      "source": [
        "df.groupby('About_text').size().sort_values(ascending=False).head(10).plot(kind='barh', color='red')"
      ],
      "metadata": {
        "colab": {
          "base_uri": "https://localhost:8080/",
          "height": 282
        },
        "id": "lFQyO-rcSvEe",
        "outputId": "3f7c112e-dc46-49e3-8f45-5058a8c26312"
      },
      "execution_count": null,
      "outputs": [
        {
          "output_type": "execute_result",
          "data": {
            "text/plain": [
              "<matplotlib.axes._subplots.AxesSubplot at 0x7f7cf5d6bf90>"
            ]
          },
          "metadata": {},
          "execution_count": 7
        },
        {
          "output_type": "display_data",
          "data": {
            "text/plain": [
              "<Figure size 432x288 with 1 Axes>"
            ],
            "image/png": "[encoded data removed]"
          },
          "metadata": {
            "needs_background": "light"
          }
        }
      ]
    },
    {
      "cell_type": "code",
      "source": [
        "from google.colab import files\n",
        "\n",
        "df.to_csv('output.csv', encoding = 'utf-8-sig') \n",
        "files.download('output.csv')"
      ],
      "metadata": {
        "colab": {
          "base_uri": "https://localhost:8080/",
          "height": 17
        },
        "id": "g0fMmG3qUKtm",
        "outputId": "82a7832a-af99-429c-fb82-59b9e2a27fe2"
      },
      "execution_count": null,
      "outputs": [
        {
          "output_type": "display_data",
          "data": {
            "text/plain": [
              "<IPython.core.display.Javascript object>"
            ],
            "application/javascript": [
              "\n",
              "    async function download(id, filename, size) {\n",
              "      if (!google.colab.kernel.accessAllowed) {\n",
              "        return;\n",
              "      }\n",
              "      const div = document.createElement('div');\n",
              "      const label = document.createElement('label');\n",
              "      label.textContent = `Downloading \"${filename}\": `;\n",
              "      div.appendChild(label);\n",
              "      const progress = document.createElement('progress');\n",
              "      progress.max = size;\n",
              "      div.appendChild(progress);\n",
              "      document.body.appendChild(div);\n",
              "\n",
              "      const buffers = [];\n",
              "      let downloaded = 0;\n",
              "\n",
              "      const channel = await google.colab.kernel.comms.open(id);\n",
              "      // Send a message to notify the kernel that we're ready.\n",
              "      channel.send({})\n",
              "\n",
              "      for await (const message of channel.messages) {\n",
              "        // Send a message to notify the kernel that we're ready.\n",
              "        channel.send({})\n",
              "        if (message.buffers) {\n",
              "          for (const buffer of message.buffers) {\n",
              "            buffers.push(buffer);\n",
              "            downloaded += buffer.byteLength;\n",
              "            progress.value = downloaded;\n",
              "          }\n",
              "        }\n",
              "      }\n",
              "      const blob = new Blob(buffers, {type: 'application/binary'});\n",
              "      const a = document.createElement('a');\n",
              "      a.href = window.URL.createObjectURL(blob);\n",
              "      a.download = filename;\n",
              "      div.appendChild(a);\n",
              "      a.click();\n",
              "      div.remove();\n",
              "    }\n",
              "  "
            ]
          },
          "metadata": {}
        },
        {
          "output_type": "display_data",
          "data": {
            "text/plain": [
              "<IPython.core.display.Javascript object>"
            ],
            "application/javascript": [
              "download(\"download_c647f819-208d-4bd1-b0d0-bf624d14a217\", \"output.csv\", 374321)"
            ]
          },
          "metadata": {}
        }
      ]
    }
  ]
}